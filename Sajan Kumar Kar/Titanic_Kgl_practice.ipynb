{
  "nbformat": 4,
  "nbformat_minor": 0,
  "metadata": {
    "kernelspec": {
      "display_name": "Python 3",
      "language": "python",
      "name": "python3"
    },
    "language_info": {
      "codemirror_mode": {
        "name": "ipython",
        "version": 3
      },
      "file_extension": ".py",
      "mimetype": "text/x-python",
      "name": "python",
      "nbconvert_exporter": "python",
      "pygments_lexer": "ipython3",
      "version": "3.7.0"
    },
    "colab": {
      "name": "Titanic-Decision Tree.ipynb",
      "provenance": [],
      "collapsed_sections": []
    },
    "accelerator": "GPU"
  },
  "cells": [
    {
      "cell_type": "code",
      "metadata": {
        "id": "vr0s7CD48WkR",
        "colab_type": "code",
        "colab": {}
      },
      "source": [
        "import pandas as pd\n",
        "import numpy as np\n",
        "import matplotlib.pyplot as plt\n",
        "from sklearn import preprocessing\n",
        "from sklearn.model_selection import train_test_split\n",
        "from sklearn import metrics\n",
        "\n",
        "from sklearn.neighbors import KNeighborsClassifier\n",
        "from sklearn.ensemble import RandomForestClassifier\n",
        "from sklearn.tree import DecisionTreeClassifier\n",
        "import tensorflow as tf"
      ],
      "execution_count": 1,
      "outputs": []
    },
    {
      "cell_type": "code",
      "metadata": {
        "id": "douiulzD8WkV",
        "colab_type": "code",
        "colab": {
          "base_uri": "https://localhost:8080/",
          "height": 229
        },
        "outputId": "b0ee5316-3e3c-4fcf-fc96-d0031e1c6160"
      },
      "source": [
        "train_df=pd.read_csv('train.csv')\n",
        "train_df.head()"
      ],
      "execution_count": 2,
      "outputs": [
        {
          "output_type": "execute_result",
          "data": {
            "text/html": [
              "<div>\n",
              "<style scoped>\n",
              "    .dataframe tbody tr th:only-of-type {\n",
              "        vertical-align: middle;\n",
              "    }\n",
              "\n",
              "    .dataframe tbody tr th {\n",
              "        vertical-align: top;\n",
              "    }\n",
              "\n",
              "    .dataframe thead th {\n",
              "        text-align: right;\n",
              "    }\n",
              "</style>\n",
              "<table border=\"1\" class=\"dataframe\">\n",
              "  <thead>\n",
              "    <tr style=\"text-align: right;\">\n",
              "      <th></th>\n",
              "      <th>PassengerId</th>\n",
              "      <th>Survived</th>\n",
              "      <th>Pclass</th>\n",
              "      <th>Name</th>\n",
              "      <th>Sex</th>\n",
              "      <th>Age</th>\n",
              "      <th>SibSp</th>\n",
              "      <th>Parch</th>\n",
              "      <th>Ticket</th>\n",
              "      <th>Fare</th>\n",
              "      <th>Cabin</th>\n",
              "      <th>Embarked</th>\n",
              "    </tr>\n",
              "  </thead>\n",
              "  <tbody>\n",
              "    <tr>\n",
              "      <th>0</th>\n",
              "      <td>1</td>\n",
              "      <td>0</td>\n",
              "      <td>3</td>\n",
              "      <td>Braund, Mr. Owen Harris</td>\n",
              "      <td>male</td>\n",
              "      <td>22.0</td>\n",
              "      <td>1</td>\n",
              "      <td>0</td>\n",
              "      <td>A/5 21171</td>\n",
              "      <td>7.2500</td>\n",
              "      <td>NaN</td>\n",
              "      <td>S</td>\n",
              "    </tr>\n",
              "    <tr>\n",
              "      <th>1</th>\n",
              "      <td>2</td>\n",
              "      <td>1</td>\n",
              "      <td>1</td>\n",
              "      <td>Cumings, Mrs. John Bradley (Florence Briggs Th...</td>\n",
              "      <td>female</td>\n",
              "      <td>38.0</td>\n",
              "      <td>1</td>\n",
              "      <td>0</td>\n",
              "      <td>PC 17599</td>\n",
              "      <td>71.2833</td>\n",
              "      <td>C85</td>\n",
              "      <td>C</td>\n",
              "    </tr>\n",
              "    <tr>\n",
              "      <th>2</th>\n",
              "      <td>3</td>\n",
              "      <td>1</td>\n",
              "      <td>3</td>\n",
              "      <td>Heikkinen, Miss. Laina</td>\n",
              "      <td>female</td>\n",
              "      <td>26.0</td>\n",
              "      <td>0</td>\n",
              "      <td>0</td>\n",
              "      <td>STON/O2. 3101282</td>\n",
              "      <td>7.9250</td>\n",
              "      <td>NaN</td>\n",
              "      <td>S</td>\n",
              "    </tr>\n",
              "    <tr>\n",
              "      <th>3</th>\n",
              "      <td>4</td>\n",
              "      <td>1</td>\n",
              "      <td>1</td>\n",
              "      <td>Futrelle, Mrs. Jacques Heath (Lily May Peel)</td>\n",
              "      <td>female</td>\n",
              "      <td>35.0</td>\n",
              "      <td>1</td>\n",
              "      <td>0</td>\n",
              "      <td>113803</td>\n",
              "      <td>53.1000</td>\n",
              "      <td>C123</td>\n",
              "      <td>S</td>\n",
              "    </tr>\n",
              "    <tr>\n",
              "      <th>4</th>\n",
              "      <td>5</td>\n",
              "      <td>0</td>\n",
              "      <td>3</td>\n",
              "      <td>Allen, Mr. William Henry</td>\n",
              "      <td>male</td>\n",
              "      <td>35.0</td>\n",
              "      <td>0</td>\n",
              "      <td>0</td>\n",
              "      <td>373450</td>\n",
              "      <td>8.0500</td>\n",
              "      <td>NaN</td>\n",
              "      <td>S</td>\n",
              "    </tr>\n",
              "  </tbody>\n",
              "</table>\n",
              "</div>"
            ],
            "text/plain": [
              "   PassengerId  Survived  Pclass  ...     Fare Cabin  Embarked\n",
              "0            1         0       3  ...   7.2500   NaN         S\n",
              "1            2         1       1  ...  71.2833   C85         C\n",
              "2            3         1       3  ...   7.9250   NaN         S\n",
              "3            4         1       1  ...  53.1000  C123         S\n",
              "4            5         0       3  ...   8.0500   NaN         S\n",
              "\n",
              "[5 rows x 12 columns]"
            ]
          },
          "metadata": {
            "tags": []
          },
          "execution_count": 2
        }
      ]
    },
    {
      "cell_type": "code",
      "metadata": {
        "id": "dfQ38JrB8WkY",
        "colab_type": "code",
        "colab": {
          "base_uri": "https://localhost:8080/",
          "height": 195
        },
        "outputId": "513bf08c-4646-4723-a092-0aa08fd0f90a"
      },
      "source": [
        "test_df=pd.read_csv('test.csv')\n",
        "test_df.head()"
      ],
      "execution_count": 3,
      "outputs": [
        {
          "output_type": "execute_result",
          "data": {
            "text/html": [
              "<div>\n",
              "<style scoped>\n",
              "    .dataframe tbody tr th:only-of-type {\n",
              "        vertical-align: middle;\n",
              "    }\n",
              "\n",
              "    .dataframe tbody tr th {\n",
              "        vertical-align: top;\n",
              "    }\n",
              "\n",
              "    .dataframe thead th {\n",
              "        text-align: right;\n",
              "    }\n",
              "</style>\n",
              "<table border=\"1\" class=\"dataframe\">\n",
              "  <thead>\n",
              "    <tr style=\"text-align: right;\">\n",
              "      <th></th>\n",
              "      <th>PassengerId</th>\n",
              "      <th>Pclass</th>\n",
              "      <th>Name</th>\n",
              "      <th>Sex</th>\n",
              "      <th>Age</th>\n",
              "      <th>SibSp</th>\n",
              "      <th>Parch</th>\n",
              "      <th>Ticket</th>\n",
              "      <th>Fare</th>\n",
              "      <th>Cabin</th>\n",
              "      <th>Embarked</th>\n",
              "    </tr>\n",
              "  </thead>\n",
              "  <tbody>\n",
              "    <tr>\n",
              "      <th>0</th>\n",
              "      <td>892</td>\n",
              "      <td>3</td>\n",
              "      <td>Kelly, Mr. James</td>\n",
              "      <td>male</td>\n",
              "      <td>34.5</td>\n",
              "      <td>0</td>\n",
              "      <td>0</td>\n",
              "      <td>330911</td>\n",
              "      <td>7.8292</td>\n",
              "      <td>NaN</td>\n",
              "      <td>Q</td>\n",
              "    </tr>\n",
              "    <tr>\n",
              "      <th>1</th>\n",
              "      <td>893</td>\n",
              "      <td>3</td>\n",
              "      <td>Wilkes, Mrs. James (Ellen Needs)</td>\n",
              "      <td>female</td>\n",
              "      <td>47.0</td>\n",
              "      <td>1</td>\n",
              "      <td>0</td>\n",
              "      <td>363272</td>\n",
              "      <td>7.0000</td>\n",
              "      <td>NaN</td>\n",
              "      <td>S</td>\n",
              "    </tr>\n",
              "    <tr>\n",
              "      <th>2</th>\n",
              "      <td>894</td>\n",
              "      <td>2</td>\n",
              "      <td>Myles, Mr. Thomas Francis</td>\n",
              "      <td>male</td>\n",
              "      <td>62.0</td>\n",
              "      <td>0</td>\n",
              "      <td>0</td>\n",
              "      <td>240276</td>\n",
              "      <td>9.6875</td>\n",
              "      <td>NaN</td>\n",
              "      <td>Q</td>\n",
              "    </tr>\n",
              "    <tr>\n",
              "      <th>3</th>\n",
              "      <td>895</td>\n",
              "      <td>3</td>\n",
              "      <td>Wirz, Mr. Albert</td>\n",
              "      <td>male</td>\n",
              "      <td>27.0</td>\n",
              "      <td>0</td>\n",
              "      <td>0</td>\n",
              "      <td>315154</td>\n",
              "      <td>8.6625</td>\n",
              "      <td>NaN</td>\n",
              "      <td>S</td>\n",
              "    </tr>\n",
              "    <tr>\n",
              "      <th>4</th>\n",
              "      <td>896</td>\n",
              "      <td>3</td>\n",
              "      <td>Hirvonen, Mrs. Alexander (Helga E Lindqvist)</td>\n",
              "      <td>female</td>\n",
              "      <td>22.0</td>\n",
              "      <td>1</td>\n",
              "      <td>1</td>\n",
              "      <td>3101298</td>\n",
              "      <td>12.2875</td>\n",
              "      <td>NaN</td>\n",
              "      <td>S</td>\n",
              "    </tr>\n",
              "  </tbody>\n",
              "</table>\n",
              "</div>"
            ],
            "text/plain": [
              "   PassengerId  Pclass  ... Cabin Embarked\n",
              "0          892       3  ...   NaN        Q\n",
              "1          893       3  ...   NaN        S\n",
              "2          894       2  ...   NaN        Q\n",
              "3          895       3  ...   NaN        S\n",
              "4          896       3  ...   NaN        S\n",
              "\n",
              "[5 rows x 11 columns]"
            ]
          },
          "metadata": {
            "tags": []
          },
          "execution_count": 3
        }
      ]
    },
    {
      "cell_type": "code",
      "metadata": {
        "id": "Tgkjn1gu8Wkb",
        "colab_type": "code",
        "colab": {
          "base_uri": "https://localhost:8080/",
          "height": 336
        },
        "outputId": "bb8c03fe-b79b-4c31-b448-1936683d5d87"
      },
      "source": [
        "train_df.info()"
      ],
      "execution_count": 4,
      "outputs": [
        {
          "output_type": "stream",
          "text": [
            "<class 'pandas.core.frame.DataFrame'>\n",
            "RangeIndex: 891 entries, 0 to 890\n",
            "Data columns (total 12 columns):\n",
            " #   Column       Non-Null Count  Dtype  \n",
            "---  ------       --------------  -----  \n",
            " 0   PassengerId  891 non-null    int64  \n",
            " 1   Survived     891 non-null    int64  \n",
            " 2   Pclass       891 non-null    int64  \n",
            " 3   Name         891 non-null    object \n",
            " 4   Sex          891 non-null    object \n",
            " 5   Age          714 non-null    float64\n",
            " 6   SibSp        891 non-null    int64  \n",
            " 7   Parch        891 non-null    int64  \n",
            " 8   Ticket       891 non-null    object \n",
            " 9   Fare         891 non-null    float64\n",
            " 10  Cabin        204 non-null    object \n",
            " 11  Embarked     889 non-null    object \n",
            "dtypes: float64(2), int64(5), object(5)\n",
            "memory usage: 83.7+ KB\n"
          ],
          "name": "stdout"
        }
      ]
    },
    {
      "cell_type": "code",
      "metadata": {
        "scrolled": true,
        "id": "gYafnsrp8Wke",
        "colab_type": "code",
        "colab": {
          "base_uri": "https://localhost:8080/",
          "height": 195
        },
        "outputId": "fee35aa3-b4d9-4e35-8126-5a0955d65455"
      },
      "source": [
        "train_df.drop(['Name', 'Ticket', 'Cabin'], axis=1, inplace=True)\n",
        "train_df.head()"
      ],
      "execution_count": 5,
      "outputs": [
        {
          "output_type": "execute_result",
          "data": {
            "text/html": [
              "<div>\n",
              "<style scoped>\n",
              "    .dataframe tbody tr th:only-of-type {\n",
              "        vertical-align: middle;\n",
              "    }\n",
              "\n",
              "    .dataframe tbody tr th {\n",
              "        vertical-align: top;\n",
              "    }\n",
              "\n",
              "    .dataframe thead th {\n",
              "        text-align: right;\n",
              "    }\n",
              "</style>\n",
              "<table border=\"1\" class=\"dataframe\">\n",
              "  <thead>\n",
              "    <tr style=\"text-align: right;\">\n",
              "      <th></th>\n",
              "      <th>PassengerId</th>\n",
              "      <th>Survived</th>\n",
              "      <th>Pclass</th>\n",
              "      <th>Sex</th>\n",
              "      <th>Age</th>\n",
              "      <th>SibSp</th>\n",
              "      <th>Parch</th>\n",
              "      <th>Fare</th>\n",
              "      <th>Embarked</th>\n",
              "    </tr>\n",
              "  </thead>\n",
              "  <tbody>\n",
              "    <tr>\n",
              "      <th>0</th>\n",
              "      <td>1</td>\n",
              "      <td>0</td>\n",
              "      <td>3</td>\n",
              "      <td>male</td>\n",
              "      <td>22.0</td>\n",
              "      <td>1</td>\n",
              "      <td>0</td>\n",
              "      <td>7.2500</td>\n",
              "      <td>S</td>\n",
              "    </tr>\n",
              "    <tr>\n",
              "      <th>1</th>\n",
              "      <td>2</td>\n",
              "      <td>1</td>\n",
              "      <td>1</td>\n",
              "      <td>female</td>\n",
              "      <td>38.0</td>\n",
              "      <td>1</td>\n",
              "      <td>0</td>\n",
              "      <td>71.2833</td>\n",
              "      <td>C</td>\n",
              "    </tr>\n",
              "    <tr>\n",
              "      <th>2</th>\n",
              "      <td>3</td>\n",
              "      <td>1</td>\n",
              "      <td>3</td>\n",
              "      <td>female</td>\n",
              "      <td>26.0</td>\n",
              "      <td>0</td>\n",
              "      <td>0</td>\n",
              "      <td>7.9250</td>\n",
              "      <td>S</td>\n",
              "    </tr>\n",
              "    <tr>\n",
              "      <th>3</th>\n",
              "      <td>4</td>\n",
              "      <td>1</td>\n",
              "      <td>1</td>\n",
              "      <td>female</td>\n",
              "      <td>35.0</td>\n",
              "      <td>1</td>\n",
              "      <td>0</td>\n",
              "      <td>53.1000</td>\n",
              "      <td>S</td>\n",
              "    </tr>\n",
              "    <tr>\n",
              "      <th>4</th>\n",
              "      <td>5</td>\n",
              "      <td>0</td>\n",
              "      <td>3</td>\n",
              "      <td>male</td>\n",
              "      <td>35.0</td>\n",
              "      <td>0</td>\n",
              "      <td>0</td>\n",
              "      <td>8.0500</td>\n",
              "      <td>S</td>\n",
              "    </tr>\n",
              "  </tbody>\n",
              "</table>\n",
              "</div>"
            ],
            "text/plain": [
              "   PassengerId  Survived  Pclass     Sex   Age  SibSp  Parch     Fare Embarked\n",
              "0            1         0       3    male  22.0      1      0   7.2500        S\n",
              "1            2         1       1  female  38.0      1      0  71.2833        C\n",
              "2            3         1       3  female  26.0      0      0   7.9250        S\n",
              "3            4         1       1  female  35.0      1      0  53.1000        S\n",
              "4            5         0       3    male  35.0      0      0   8.0500        S"
            ]
          },
          "metadata": {
            "tags": []
          },
          "execution_count": 5
        }
      ]
    },
    {
      "cell_type": "code",
      "metadata": {
        "id": "OuwzSKLs8Wkg",
        "colab_type": "code",
        "colab": {
          "base_uri": "https://localhost:8080/",
          "height": 319
        },
        "outputId": "46d8121b-366e-43d4-df9a-8c86243572c5"
      },
      "source": [
        "test_df.info()"
      ],
      "execution_count": 6,
      "outputs": [
        {
          "output_type": "stream",
          "text": [
            "<class 'pandas.core.frame.DataFrame'>\n",
            "RangeIndex: 418 entries, 0 to 417\n",
            "Data columns (total 11 columns):\n",
            " #   Column       Non-Null Count  Dtype  \n",
            "---  ------       --------------  -----  \n",
            " 0   PassengerId  418 non-null    int64  \n",
            " 1   Pclass       418 non-null    int64  \n",
            " 2   Name         418 non-null    object \n",
            " 3   Sex          418 non-null    object \n",
            " 4   Age          332 non-null    float64\n",
            " 5   SibSp        418 non-null    int64  \n",
            " 6   Parch        418 non-null    int64  \n",
            " 7   Ticket       418 non-null    object \n",
            " 8   Fare         417 non-null    float64\n",
            " 9   Cabin        91 non-null     object \n",
            " 10  Embarked     418 non-null    object \n",
            "dtypes: float64(2), int64(4), object(5)\n",
            "memory usage: 36.0+ KB\n"
          ],
          "name": "stdout"
        }
      ]
    },
    {
      "cell_type": "code",
      "metadata": {
        "id": "zz45C9N-8Wkj",
        "colab_type": "code",
        "colab": {
          "base_uri": "https://localhost:8080/",
          "height": 195
        },
        "outputId": "032b8167-e7a6-4ca4-b830-3ee2ff558841"
      },
      "source": [
        "test_df.drop(['Name', 'Ticket', 'Cabin'], axis=1, inplace=True)\n",
        "test_df.head()"
      ],
      "execution_count": 7,
      "outputs": [
        {
          "output_type": "execute_result",
          "data": {
            "text/html": [
              "<div>\n",
              "<style scoped>\n",
              "    .dataframe tbody tr th:only-of-type {\n",
              "        vertical-align: middle;\n",
              "    }\n",
              "\n",
              "    .dataframe tbody tr th {\n",
              "        vertical-align: top;\n",
              "    }\n",
              "\n",
              "    .dataframe thead th {\n",
              "        text-align: right;\n",
              "    }\n",
              "</style>\n",
              "<table border=\"1\" class=\"dataframe\">\n",
              "  <thead>\n",
              "    <tr style=\"text-align: right;\">\n",
              "      <th></th>\n",
              "      <th>PassengerId</th>\n",
              "      <th>Pclass</th>\n",
              "      <th>Sex</th>\n",
              "      <th>Age</th>\n",
              "      <th>SibSp</th>\n",
              "      <th>Parch</th>\n",
              "      <th>Fare</th>\n",
              "      <th>Embarked</th>\n",
              "    </tr>\n",
              "  </thead>\n",
              "  <tbody>\n",
              "    <tr>\n",
              "      <th>0</th>\n",
              "      <td>892</td>\n",
              "      <td>3</td>\n",
              "      <td>male</td>\n",
              "      <td>34.5</td>\n",
              "      <td>0</td>\n",
              "      <td>0</td>\n",
              "      <td>7.8292</td>\n",
              "      <td>Q</td>\n",
              "    </tr>\n",
              "    <tr>\n",
              "      <th>1</th>\n",
              "      <td>893</td>\n",
              "      <td>3</td>\n",
              "      <td>female</td>\n",
              "      <td>47.0</td>\n",
              "      <td>1</td>\n",
              "      <td>0</td>\n",
              "      <td>7.0000</td>\n",
              "      <td>S</td>\n",
              "    </tr>\n",
              "    <tr>\n",
              "      <th>2</th>\n",
              "      <td>894</td>\n",
              "      <td>2</td>\n",
              "      <td>male</td>\n",
              "      <td>62.0</td>\n",
              "      <td>0</td>\n",
              "      <td>0</td>\n",
              "      <td>9.6875</td>\n",
              "      <td>Q</td>\n",
              "    </tr>\n",
              "    <tr>\n",
              "      <th>3</th>\n",
              "      <td>895</td>\n",
              "      <td>3</td>\n",
              "      <td>male</td>\n",
              "      <td>27.0</td>\n",
              "      <td>0</td>\n",
              "      <td>0</td>\n",
              "      <td>8.6625</td>\n",
              "      <td>S</td>\n",
              "    </tr>\n",
              "    <tr>\n",
              "      <th>4</th>\n",
              "      <td>896</td>\n",
              "      <td>3</td>\n",
              "      <td>female</td>\n",
              "      <td>22.0</td>\n",
              "      <td>1</td>\n",
              "      <td>1</td>\n",
              "      <td>12.2875</td>\n",
              "      <td>S</td>\n",
              "    </tr>\n",
              "  </tbody>\n",
              "</table>\n",
              "</div>"
            ],
            "text/plain": [
              "   PassengerId  Pclass     Sex   Age  SibSp  Parch     Fare Embarked\n",
              "0          892       3    male  34.5      0      0   7.8292        Q\n",
              "1          893       3  female  47.0      1      0   7.0000        S\n",
              "2          894       2    male  62.0      0      0   9.6875        Q\n",
              "3          895       3    male  27.0      0      0   8.6625        S\n",
              "4          896       3  female  22.0      1      1  12.2875        S"
            ]
          },
          "metadata": {
            "tags": []
          },
          "execution_count": 7
        }
      ]
    },
    {
      "cell_type": "code",
      "metadata": {
        "id": "6VIqimyR8Wkl",
        "colab_type": "code",
        "colab": {
          "base_uri": "https://localhost:8080/",
          "height": 185
        },
        "outputId": "be72153f-4315-4f7c-857d-bda2fb8ec7d3"
      },
      "source": [
        "train_df.isnull().sum()"
      ],
      "execution_count": 8,
      "outputs": [
        {
          "output_type": "execute_result",
          "data": {
            "text/plain": [
              "PassengerId      0\n",
              "Survived         0\n",
              "Pclass           0\n",
              "Sex              0\n",
              "Age            177\n",
              "SibSp            0\n",
              "Parch            0\n",
              "Fare             0\n",
              "Embarked         2\n",
              "dtype: int64"
            ]
          },
          "metadata": {
            "tags": []
          },
          "execution_count": 8
        }
      ]
    },
    {
      "cell_type": "code",
      "metadata": {
        "id": "Ruwr7jTP8Wko",
        "colab_type": "code",
        "colab": {
          "base_uri": "https://localhost:8080/",
          "height": 168
        },
        "outputId": "1ae01a54-aa16-471e-cfd4-a47310968338"
      },
      "source": [
        "test_df.isnull().sum()"
      ],
      "execution_count": 9,
      "outputs": [
        {
          "output_type": "execute_result",
          "data": {
            "text/plain": [
              "PassengerId     0\n",
              "Pclass          0\n",
              "Sex             0\n",
              "Age            86\n",
              "SibSp           0\n",
              "Parch           0\n",
              "Fare            1\n",
              "Embarked        0\n",
              "dtype: int64"
            ]
          },
          "metadata": {
            "tags": []
          },
          "execution_count": 9
        }
      ]
    },
    {
      "cell_type": "code",
      "metadata": {
        "id": "4J0VrJG48Wkq",
        "colab_type": "code",
        "colab": {}
      },
      "source": [
        "train_df['Age']=train_df['Age'].fillna((train_df['Age']).mean())\n",
        "test_df['Age']=test_df['Age'].fillna((test_df['Age']).mean())\n",
        "test_df['Fare']=test_df['Fare'].fillna((test_df['Fare']).mean())"
      ],
      "execution_count": 10,
      "outputs": []
    },
    {
      "cell_type": "code",
      "metadata": {
        "id": "mIRO-A0R8Wks",
        "colab_type": "code",
        "colab": {
          "base_uri": "https://localhost:8080/",
          "height": 84
        },
        "outputId": "8363d4ab-6521-415f-a0a5-ab288a8061ea"
      },
      "source": [
        "train_df['Embarked'].value_counts()"
      ],
      "execution_count": 11,
      "outputs": [
        {
          "output_type": "execute_result",
          "data": {
            "text/plain": [
              "S    644\n",
              "C    168\n",
              "Q     77\n",
              "Name: Embarked, dtype: int64"
            ]
          },
          "metadata": {
            "tags": []
          },
          "execution_count": 11
        }
      ]
    },
    {
      "cell_type": "code",
      "metadata": {
        "id": "mWhI-i-O8Wkx",
        "colab_type": "code",
        "colab": {}
      },
      "source": [
        "train_df['Embarked']=train_df['Embarked'].fillna('S')"
      ],
      "execution_count": 12,
      "outputs": []
    },
    {
      "cell_type": "code",
      "metadata": {
        "id": "7ESI8EO68Wkz",
        "colab_type": "code",
        "colab": {}
      },
      "source": [
        "lb=preprocessing.LabelEncoder()\n",
        "train_df['Sex'] = lb.fit_transform(train_df['Sex'])\n",
        "test_df['Sex'] = lb.fit_transform(test_df['Sex'])\n",
        "train_df['Embarked'] = lb.fit_transform(train_df['Embarked'])\n",
        "test_df['Embarked'] = lb.fit_transform(test_df['Embarked'])"
      ],
      "execution_count": 13,
      "outputs": []
    },
    {
      "cell_type": "code",
      "metadata": {
        "id": "2o_ewd7V8Wk1",
        "colab_type": "code",
        "colab": {
          "base_uri": "https://localhost:8080/",
          "height": 218
        },
        "outputId": "b52417c0-0935-409a-edfc-cbddc1629cbb"
      },
      "source": [
        "print(train_df.head())\n",
        "print(test_df.head())"
      ],
      "execution_count": 14,
      "outputs": [
        {
          "output_type": "stream",
          "text": [
            "   PassengerId  Survived  Pclass  Sex   Age  SibSp  Parch     Fare  Embarked\n",
            "0            1         0       3    1  22.0      1      0   7.2500         2\n",
            "1            2         1       1    0  38.0      1      0  71.2833         0\n",
            "2            3         1       3    0  26.0      0      0   7.9250         2\n",
            "3            4         1       1    0  35.0      1      0  53.1000         2\n",
            "4            5         0       3    1  35.0      0      0   8.0500         2\n",
            "   PassengerId  Pclass  Sex   Age  SibSp  Parch     Fare  Embarked\n",
            "0          892       3    1  34.5      0      0   7.8292         1\n",
            "1          893       3    0  47.0      1      0   7.0000         2\n",
            "2          894       2    1  62.0      0      0   9.6875         1\n",
            "3          895       3    1  27.0      0      0   8.6625         2\n",
            "4          896       3    0  22.0      1      1  12.2875         2\n"
          ],
          "name": "stdout"
        }
      ]
    },
    {
      "cell_type": "code",
      "metadata": {
        "id": "8N7qm5FI8Wk3",
        "colab_type": "code",
        "colab": {}
      },
      "source": [
        "x=train_df.drop(['PassengerId', 'Survived'], axis=1)\n",
        "y=train_df['Survived']\n",
        "x_train, x_test, y_train, y_test = train_test_split(x,y, test_size=0.2, random_state=0)"
      ],
      "execution_count": 15,
      "outputs": []
    },
    {
      "cell_type": "code",
      "metadata": {
        "id": "sWB98l6x8Wk5",
        "colab_type": "code",
        "colab": {
          "base_uri": "https://localhost:8080/",
          "height": 50
        },
        "outputId": "e2c669a8-4309-49f2-c1de-3c0ed10c7839"
      },
      "source": [
        "print(x_train.shape, y_train.shape)\n",
        "print(x_test.shape, y_test.shape)"
      ],
      "execution_count": 16,
      "outputs": [
        {
          "output_type": "stream",
          "text": [
            "(712, 7) (712,)\n",
            "(179, 7) (179,)\n"
          ],
          "name": "stdout"
        }
      ]
    },
    {
      "cell_type": "code",
      "metadata": {
        "id": "_cC_JjeY8Wk7",
        "colab_type": "code",
        "colab": {
          "base_uri": "https://localhost:8080/",
          "height": 50
        },
        "outputId": "ad3001cd-dd1f-4dc6-dc48-512024971551"
      },
      "source": [
        "k=5\n",
        "neigh = KNeighborsClassifier(n_neighbors = k).fit(x_train,y_train)\n",
        "yhat = neigh.predict(x_test)\n",
        "print(\"Train set Accuracy: \", metrics.accuracy_score(y_train, neigh.predict(x_train)))\n",
        "print(\"Test set Accuracy: \", metrics.accuracy_score(y_test, yhat))"
      ],
      "execution_count": 17,
      "outputs": [
        {
          "output_type": "stream",
          "text": [
            "Train set Accuracy:  0.8047752808988764\n",
            "Test set Accuracy:  0.7430167597765364\n"
          ],
          "name": "stdout"
        }
      ]
    },
    {
      "cell_type": "code",
      "metadata": {
        "id": "jz71Evk-8Wk9",
        "colab_type": "code",
        "colab": {
          "base_uri": "https://localhost:8080/",
          "height": 34
        },
        "outputId": "e492dbb7-abd8-48d8-dd50-d638f1ac4bcf"
      },
      "source": [
        "rf=RandomForestClassifier(n_estimators=250, max_depth=9).fit(x_train, y_train)\n",
        "y_pred=rf.predict(x_test)\n",
        "print(\"Random Forest Accuracy: \", metrics.accuracy_score(y_test, y_pred))"
      ],
      "execution_count": 20,
      "outputs": [
        {
          "output_type": "stream",
          "text": [
            "Random Forest Accuracy:  0.8547486033519553\n"
          ],
          "name": "stdout"
        }
      ]
    },
    {
      "cell_type": "code",
      "metadata": {
        "id": "htNjmpqX8WlB",
        "colab_type": "code",
        "colab": {
          "base_uri": "https://localhost:8080/",
          "height": 34
        },
        "outputId": "2cf0734c-c270-4dcd-961c-673889a5a442"
      },
      "source": [
        "dt=DecisionTreeClassifier(criterion=\"entropy\", max_depth = 7).fit(x_train, y_train)\n",
        "tree_pred=dt.predict(x_test)\n",
        "print(\"DecisionTrees's Accuracy: \", metrics.accuracy_score(y_test, tree_pred))"
      ],
      "execution_count": 19,
      "outputs": [
        {
          "output_type": "stream",
          "text": [
            "DecisionTrees's Accuracy:  0.8435754189944135\n"
          ],
          "name": "stdout"
        }
      ]
    },
    {
      "cell_type": "code",
      "metadata": {
        "id": "7un-NpSN8_sF",
        "colab_type": "code",
        "colab": {}
      },
      "source": [
        "model=tf.keras.models.Sequential()\n",
        "model.add(tf.keras.layers.Dense(8, input_shape=(x_train.shape[1],)))\n",
        "model.add(tf.keras.layers.Dense(16, activation='relu'))\n",
        "model.add(tf.keras.layers.BatchNormalization())\n",
        "model.add(tf.keras.layers.Dense(16, activation='relu'))\n",
        "model.add(tf.keras.layers.Dropout(0.4))\n",
        "model.add(tf.keras.layers.Dense(10, activation='relu'))\n",
        "model.add(tf.keras.layers.Dense(1, activation='sigmoid'))"
      ],
      "execution_count": 40,
      "outputs": []
    },
    {
      "cell_type": "code",
      "metadata": {
        "id": "LzOGbzzNAzqx",
        "colab_type": "code",
        "colab": {
          "base_uri": "https://localhost:8080/",
          "height": 386
        },
        "outputId": "8bbbe5c5-9cc2-4334-c5f9-61d4fb20c6d1"
      },
      "source": [
        "model.summary()"
      ],
      "execution_count": 41,
      "outputs": [
        {
          "output_type": "stream",
          "text": [
            "Model: \"sequential_4\"\n",
            "_________________________________________________________________\n",
            "Layer (type)                 Output Shape              Param #   \n",
            "=================================================================\n",
            "dense_20 (Dense)             (None, 8)                 64        \n",
            "_________________________________________________________________\n",
            "dense_21 (Dense)             (None, 16)                144       \n",
            "_________________________________________________________________\n",
            "batch_normalization_1 (Batch (None, 16)                64        \n",
            "_________________________________________________________________\n",
            "dense_22 (Dense)             (None, 16)                272       \n",
            "_________________________________________________________________\n",
            "dropout_4 (Dropout)          (None, 16)                0         \n",
            "_________________________________________________________________\n",
            "dense_23 (Dense)             (None, 10)                170       \n",
            "_________________________________________________________________\n",
            "dense_24 (Dense)             (None, 1)                 11        \n",
            "=================================================================\n",
            "Total params: 725\n",
            "Trainable params: 693\n",
            "Non-trainable params: 32\n",
            "_________________________________________________________________\n"
          ],
          "name": "stdout"
        }
      ]
    },
    {
      "cell_type": "code",
      "metadata": {
        "id": "623nZ5frA2iC",
        "colab_type": "code",
        "colab": {}
      },
      "source": [
        "model.compile(optimizer='adam', loss='binary_crossentropy', metrics=['accuracy'])"
      ],
      "execution_count": 42,
      "outputs": []
    },
    {
      "cell_type": "code",
      "metadata": {
        "id": "hajVG0gCBWGY",
        "colab_type": "code",
        "colab": {
          "base_uri": "https://localhost:8080/",
          "height": 1000
        },
        "outputId": "7033bb8a-16fe-49d9-afb4-eeea1ff5f432"
      },
      "source": [
        "model.fit(x_train, y_train, batch_size=16, epochs=100)"
      ],
      "execution_count": 43,
      "outputs": [
        {
          "output_type": "stream",
          "text": [
            "Epoch 1/100\n",
            "45/45 [==============================] - 0s 4ms/step - loss: 0.6908 - accuracy: 0.5885\n",
            "Epoch 2/100\n",
            "45/45 [==============================] - 0s 4ms/step - loss: 0.6374 - accuracy: 0.6419\n",
            "Epoch 3/100\n",
            "45/45 [==============================] - 0s 4ms/step - loss: 0.6363 - accuracy: 0.6362\n",
            "Epoch 4/100\n",
            "45/45 [==============================] - 0s 4ms/step - loss: 0.6506 - accuracy: 0.6531\n",
            "Epoch 5/100\n",
            "45/45 [==============================] - 0s 4ms/step - loss: 0.6302 - accuracy: 0.6461\n",
            "Epoch 6/100\n",
            "45/45 [==============================] - 0s 4ms/step - loss: 0.6189 - accuracy: 0.6643\n",
            "Epoch 7/100\n",
            "45/45 [==============================] - 0s 4ms/step - loss: 0.6295 - accuracy: 0.6615\n",
            "Epoch 8/100\n",
            "45/45 [==============================] - 0s 4ms/step - loss: 0.6230 - accuracy: 0.6517\n",
            "Epoch 9/100\n",
            "45/45 [==============================] - 0s 4ms/step - loss: 0.6260 - accuracy: 0.6615\n",
            "Epoch 10/100\n",
            "45/45 [==============================] - 0s 4ms/step - loss: 0.6240 - accuracy: 0.6713\n",
            "Epoch 11/100\n",
            "45/45 [==============================] - 0s 4ms/step - loss: 0.6192 - accuracy: 0.6742\n",
            "Epoch 12/100\n",
            "45/45 [==============================] - 0s 4ms/step - loss: 0.5961 - accuracy: 0.6629\n",
            "Epoch 13/100\n",
            "45/45 [==============================] - 0s 4ms/step - loss: 0.6069 - accuracy: 0.6756\n",
            "Epoch 14/100\n",
            "45/45 [==============================] - 0s 4ms/step - loss: 0.5889 - accuracy: 0.6770\n",
            "Epoch 15/100\n",
            "45/45 [==============================] - 0s 4ms/step - loss: 0.6089 - accuracy: 0.6671\n",
            "Epoch 16/100\n",
            "45/45 [==============================] - 0s 4ms/step - loss: 0.5893 - accuracy: 0.6868\n",
            "Epoch 17/100\n",
            "45/45 [==============================] - 0s 4ms/step - loss: 0.5755 - accuracy: 0.6966\n",
            "Epoch 18/100\n",
            "45/45 [==============================] - 0s 4ms/step - loss: 0.5739 - accuracy: 0.6938\n",
            "Epoch 19/100\n",
            "45/45 [==============================] - 0s 4ms/step - loss: 0.5564 - accuracy: 0.7191\n",
            "Epoch 20/100\n",
            "45/45 [==============================] - 0s 4ms/step - loss: 0.5371 - accuracy: 0.7556\n",
            "Epoch 21/100\n",
            "45/45 [==============================] - 0s 4ms/step - loss: 0.5333 - accuracy: 0.7402\n",
            "Epoch 22/100\n",
            "45/45 [==============================] - 0s 4ms/step - loss: 0.5355 - accuracy: 0.7528\n",
            "Epoch 23/100\n",
            "45/45 [==============================] - 0s 4ms/step - loss: 0.5223 - accuracy: 0.7654\n",
            "Epoch 24/100\n",
            "45/45 [==============================] - 0s 4ms/step - loss: 0.5237 - accuracy: 0.7626\n",
            "Epoch 25/100\n",
            "45/45 [==============================] - 0s 4ms/step - loss: 0.5034 - accuracy: 0.7767\n",
            "Epoch 26/100\n",
            "45/45 [==============================] - 0s 4ms/step - loss: 0.5038 - accuracy: 0.7654\n",
            "Epoch 27/100\n",
            "45/45 [==============================] - 0s 4ms/step - loss: 0.5021 - accuracy: 0.7584\n",
            "Epoch 28/100\n",
            "45/45 [==============================] - 0s 4ms/step - loss: 0.5089 - accuracy: 0.7654\n",
            "Epoch 29/100\n",
            "45/45 [==============================] - 0s 4ms/step - loss: 0.5045 - accuracy: 0.7725\n",
            "Epoch 30/100\n",
            "45/45 [==============================] - 0s 4ms/step - loss: 0.5104 - accuracy: 0.7781\n",
            "Epoch 31/100\n",
            "45/45 [==============================] - 0s 4ms/step - loss: 0.5039 - accuracy: 0.7725\n",
            "Epoch 32/100\n",
            "45/45 [==============================] - 0s 4ms/step - loss: 0.4959 - accuracy: 0.7739\n",
            "Epoch 33/100\n",
            "45/45 [==============================] - 0s 4ms/step - loss: 0.5098 - accuracy: 0.7697\n",
            "Epoch 34/100\n",
            "45/45 [==============================] - 0s 4ms/step - loss: 0.5012 - accuracy: 0.7612\n",
            "Epoch 35/100\n",
            "45/45 [==============================] - 0s 4ms/step - loss: 0.5070 - accuracy: 0.7711\n",
            "Epoch 36/100\n",
            "45/45 [==============================] - 0s 5ms/step - loss: 0.5072 - accuracy: 0.7753\n",
            "Epoch 37/100\n",
            "45/45 [==============================] - 0s 4ms/step - loss: 0.4999 - accuracy: 0.7851\n",
            "Epoch 38/100\n",
            "45/45 [==============================] - 0s 4ms/step - loss: 0.4782 - accuracy: 0.8006\n",
            "Epoch 39/100\n",
            "45/45 [==============================] - 0s 4ms/step - loss: 0.4753 - accuracy: 0.7851\n",
            "Epoch 40/100\n",
            "45/45 [==============================] - 0s 4ms/step - loss: 0.5013 - accuracy: 0.7795\n",
            "Epoch 41/100\n",
            "45/45 [==============================] - 0s 4ms/step - loss: 0.4854 - accuracy: 0.7963\n",
            "Epoch 42/100\n",
            "45/45 [==============================] - 0s 4ms/step - loss: 0.4918 - accuracy: 0.7837\n",
            "Epoch 43/100\n",
            "45/45 [==============================] - 0s 4ms/step - loss: 0.4945 - accuracy: 0.7697\n",
            "Epoch 44/100\n",
            "45/45 [==============================] - 0s 4ms/step - loss: 0.4852 - accuracy: 0.7879\n",
            "Epoch 45/100\n",
            "45/45 [==============================] - 0s 4ms/step - loss: 0.4652 - accuracy: 0.8062\n",
            "Epoch 46/100\n",
            "45/45 [==============================] - 0s 4ms/step - loss: 0.4678 - accuracy: 0.7823\n",
            "Epoch 47/100\n",
            "45/45 [==============================] - 0s 4ms/step - loss: 0.4829 - accuracy: 0.7907\n",
            "Epoch 48/100\n",
            "45/45 [==============================] - 0s 4ms/step - loss: 0.5049 - accuracy: 0.7781\n",
            "Epoch 49/100\n",
            "45/45 [==============================] - 0s 4ms/step - loss: 0.4680 - accuracy: 0.8062\n",
            "Epoch 50/100\n",
            "45/45 [==============================] - 0s 4ms/step - loss: 0.4902 - accuracy: 0.7837\n",
            "Epoch 51/100\n",
            "45/45 [==============================] - 0s 4ms/step - loss: 0.4854 - accuracy: 0.7963\n",
            "Epoch 52/100\n",
            "45/45 [==============================] - 0s 4ms/step - loss: 0.4819 - accuracy: 0.7879\n",
            "Epoch 53/100\n",
            "45/45 [==============================] - 0s 4ms/step - loss: 0.4821 - accuracy: 0.7865\n",
            "Epoch 54/100\n",
            "45/45 [==============================] - 0s 4ms/step - loss: 0.4879 - accuracy: 0.7753\n",
            "Epoch 55/100\n",
            "45/45 [==============================] - 0s 4ms/step - loss: 0.4757 - accuracy: 0.7907\n",
            "Epoch 56/100\n",
            "45/45 [==============================] - 0s 4ms/step - loss: 0.4799 - accuracy: 0.7753\n",
            "Epoch 57/100\n",
            "45/45 [==============================] - 0s 4ms/step - loss: 0.4864 - accuracy: 0.8006\n",
            "Epoch 58/100\n",
            "45/45 [==============================] - 0s 4ms/step - loss: 0.4772 - accuracy: 0.7978\n",
            "Epoch 59/100\n",
            "45/45 [==============================] - 0s 4ms/step - loss: 0.4817 - accuracy: 0.7851\n",
            "Epoch 60/100\n",
            "45/45 [==============================] - 0s 4ms/step - loss: 0.4811 - accuracy: 0.7949\n",
            "Epoch 61/100\n",
            "45/45 [==============================] - 0s 4ms/step - loss: 0.4734 - accuracy: 0.7879\n",
            "Epoch 62/100\n",
            "45/45 [==============================] - 0s 4ms/step - loss: 0.4619 - accuracy: 0.8104\n",
            "Epoch 63/100\n",
            "45/45 [==============================] - 0s 4ms/step - loss: 0.4814 - accuracy: 0.7879\n",
            "Epoch 64/100\n",
            "45/45 [==============================] - 0s 4ms/step - loss: 0.4658 - accuracy: 0.7992\n",
            "Epoch 65/100\n",
            "45/45 [==============================] - 0s 4ms/step - loss: 0.4768 - accuracy: 0.7949\n",
            "Epoch 66/100\n",
            "45/45 [==============================] - 0s 4ms/step - loss: 0.4475 - accuracy: 0.8216\n",
            "Epoch 67/100\n",
            "45/45 [==============================] - 0s 4ms/step - loss: 0.4577 - accuracy: 0.8118\n",
            "Epoch 68/100\n",
            "45/45 [==============================] - 0s 4ms/step - loss: 0.4660 - accuracy: 0.7851\n",
            "Epoch 69/100\n",
            "45/45 [==============================] - 0s 4ms/step - loss: 0.4851 - accuracy: 0.7921\n",
            "Epoch 70/100\n",
            "45/45 [==============================] - 0s 4ms/step - loss: 0.4716 - accuracy: 0.7949\n",
            "Epoch 71/100\n",
            "45/45 [==============================] - 0s 4ms/step - loss: 0.4726 - accuracy: 0.7935\n",
            "Epoch 72/100\n",
            "45/45 [==============================] - 0s 4ms/step - loss: 0.4759 - accuracy: 0.7978\n",
            "Epoch 73/100\n",
            "45/45 [==============================] - 0s 4ms/step - loss: 0.4695 - accuracy: 0.8048\n",
            "Epoch 74/100\n",
            "45/45 [==============================] - 0s 4ms/step - loss: 0.4685 - accuracy: 0.7978\n",
            "Epoch 75/100\n",
            "45/45 [==============================] - 0s 4ms/step - loss: 0.4591 - accuracy: 0.7963\n",
            "Epoch 76/100\n",
            "45/45 [==============================] - 0s 4ms/step - loss: 0.4853 - accuracy: 0.7893\n",
            "Epoch 77/100\n",
            "45/45 [==============================] - 0s 4ms/step - loss: 0.4735 - accuracy: 0.7992\n",
            "Epoch 78/100\n",
            "45/45 [==============================] - 0s 4ms/step - loss: 0.4720 - accuracy: 0.7963\n",
            "Epoch 79/100\n",
            "45/45 [==============================] - 0s 4ms/step - loss: 0.4580 - accuracy: 0.8006\n",
            "Epoch 80/100\n",
            "45/45 [==============================] - 0s 4ms/step - loss: 0.4653 - accuracy: 0.8020\n",
            "Epoch 81/100\n",
            "45/45 [==============================] - 0s 4ms/step - loss: 0.4802 - accuracy: 0.7893\n",
            "Epoch 82/100\n",
            "45/45 [==============================] - 0s 4ms/step - loss: 0.4774 - accuracy: 0.7978\n",
            "Epoch 83/100\n",
            "45/45 [==============================] - 0s 4ms/step - loss: 0.4553 - accuracy: 0.8048\n",
            "Epoch 84/100\n",
            "45/45 [==============================] - 0s 4ms/step - loss: 0.4620 - accuracy: 0.7893\n",
            "Epoch 85/100\n",
            "45/45 [==============================] - 0s 4ms/step - loss: 0.4596 - accuracy: 0.7978\n",
            "Epoch 86/100\n",
            "45/45 [==============================] - 0s 4ms/step - loss: 0.5084 - accuracy: 0.7879\n",
            "Epoch 87/100\n",
            "45/45 [==============================] - 0s 4ms/step - loss: 0.4639 - accuracy: 0.7921\n",
            "Epoch 88/100\n",
            "45/45 [==============================] - 0s 4ms/step - loss: 0.4824 - accuracy: 0.7837\n",
            "Epoch 89/100\n",
            "45/45 [==============================] - 0s 4ms/step - loss: 0.4695 - accuracy: 0.7949\n",
            "Epoch 90/100\n",
            "45/45 [==============================] - 0s 4ms/step - loss: 0.4748 - accuracy: 0.7893\n",
            "Epoch 91/100\n",
            "45/45 [==============================] - 0s 4ms/step - loss: 0.4767 - accuracy: 0.7907\n",
            "Epoch 92/100\n",
            "45/45 [==============================] - 0s 4ms/step - loss: 0.4671 - accuracy: 0.8118\n",
            "Epoch 93/100\n",
            "45/45 [==============================] - 0s 4ms/step - loss: 0.4739 - accuracy: 0.7879\n",
            "Epoch 94/100\n",
            "45/45 [==============================] - 0s 4ms/step - loss: 0.4816 - accuracy: 0.7921\n",
            "Epoch 95/100\n",
            "45/45 [==============================] - 0s 4ms/step - loss: 0.4806 - accuracy: 0.7907\n",
            "Epoch 96/100\n",
            "45/45 [==============================] - 0s 4ms/step - loss: 0.4835 - accuracy: 0.7865\n",
            "Epoch 97/100\n",
            "45/45 [==============================] - 0s 4ms/step - loss: 0.4657 - accuracy: 0.8006\n",
            "Epoch 98/100\n",
            "45/45 [==============================] - 0s 4ms/step - loss: 0.4776 - accuracy: 0.8034\n",
            "Epoch 99/100\n",
            "45/45 [==============================] - 0s 4ms/step - loss: 0.4609 - accuracy: 0.8104\n",
            "Epoch 100/100\n",
            "45/45 [==============================] - 0s 4ms/step - loss: 0.4533 - accuracy: 0.8160\n"
          ],
          "name": "stdout"
        },
        {
          "output_type": "execute_result",
          "data": {
            "text/plain": [
              "<tensorflow.python.keras.callbacks.History at 0x7f8c8a190c88>"
            ]
          },
          "metadata": {
            "tags": []
          },
          "execution_count": 43
        }
      ]
    },
    {
      "cell_type": "code",
      "metadata": {
        "id": "076Lsk3FDBBh",
        "colab_type": "code",
        "colab": {
          "base_uri": "https://localhost:8080/",
          "height": 34
        },
        "outputId": "3f584ac1-f866-4a89-efb0-878eb0b98dee"
      },
      "source": [
        "nn_loss, nn_acc=model.evaluate(x_test, y_test)"
      ],
      "execution_count": 44,
      "outputs": [
        {
          "output_type": "stream",
          "text": [
            "6/6 [==============================] - 0s 2ms/step - loss: 0.4704 - accuracy: 0.7989\n"
          ],
          "name": "stdout"
        }
      ]
    },
    {
      "cell_type": "code",
      "metadata": {
        "id": "_igXt4Py8WlD",
        "colab_type": "code",
        "colab": {
          "base_uri": "https://localhost:8080/",
          "height": 195
        },
        "outputId": "c2f1571a-4eee-438c-fd80-caecd9fbcb90"
      },
      "source": [
        "test_df.head()"
      ],
      "execution_count": 45,
      "outputs": [
        {
          "output_type": "execute_result",
          "data": {
            "text/html": [
              "<div>\n",
              "<style scoped>\n",
              "    .dataframe tbody tr th:only-of-type {\n",
              "        vertical-align: middle;\n",
              "    }\n",
              "\n",
              "    .dataframe tbody tr th {\n",
              "        vertical-align: top;\n",
              "    }\n",
              "\n",
              "    .dataframe thead th {\n",
              "        text-align: right;\n",
              "    }\n",
              "</style>\n",
              "<table border=\"1\" class=\"dataframe\">\n",
              "  <thead>\n",
              "    <tr style=\"text-align: right;\">\n",
              "      <th></th>\n",
              "      <th>PassengerId</th>\n",
              "      <th>Pclass</th>\n",
              "      <th>Sex</th>\n",
              "      <th>Age</th>\n",
              "      <th>SibSp</th>\n",
              "      <th>Parch</th>\n",
              "      <th>Fare</th>\n",
              "      <th>Embarked</th>\n",
              "    </tr>\n",
              "  </thead>\n",
              "  <tbody>\n",
              "    <tr>\n",
              "      <th>0</th>\n",
              "      <td>892</td>\n",
              "      <td>3</td>\n",
              "      <td>1</td>\n",
              "      <td>34.5</td>\n",
              "      <td>0</td>\n",
              "      <td>0</td>\n",
              "      <td>7.8292</td>\n",
              "      <td>1</td>\n",
              "    </tr>\n",
              "    <tr>\n",
              "      <th>1</th>\n",
              "      <td>893</td>\n",
              "      <td>3</td>\n",
              "      <td>0</td>\n",
              "      <td>47.0</td>\n",
              "      <td>1</td>\n",
              "      <td>0</td>\n",
              "      <td>7.0000</td>\n",
              "      <td>2</td>\n",
              "    </tr>\n",
              "    <tr>\n",
              "      <th>2</th>\n",
              "      <td>894</td>\n",
              "      <td>2</td>\n",
              "      <td>1</td>\n",
              "      <td>62.0</td>\n",
              "      <td>0</td>\n",
              "      <td>0</td>\n",
              "      <td>9.6875</td>\n",
              "      <td>1</td>\n",
              "    </tr>\n",
              "    <tr>\n",
              "      <th>3</th>\n",
              "      <td>895</td>\n",
              "      <td>3</td>\n",
              "      <td>1</td>\n",
              "      <td>27.0</td>\n",
              "      <td>0</td>\n",
              "      <td>0</td>\n",
              "      <td>8.6625</td>\n",
              "      <td>2</td>\n",
              "    </tr>\n",
              "    <tr>\n",
              "      <th>4</th>\n",
              "      <td>896</td>\n",
              "      <td>3</td>\n",
              "      <td>0</td>\n",
              "      <td>22.0</td>\n",
              "      <td>1</td>\n",
              "      <td>1</td>\n",
              "      <td>12.2875</td>\n",
              "      <td>2</td>\n",
              "    </tr>\n",
              "  </tbody>\n",
              "</table>\n",
              "</div>"
            ],
            "text/plain": [
              "   PassengerId  Pclass  Sex   Age  SibSp  Parch     Fare  Embarked\n",
              "0          892       3    1  34.5      0      0   7.8292         1\n",
              "1          893       3    0  47.0      1      0   7.0000         2\n",
              "2          894       2    1  62.0      0      0   9.6875         1\n",
              "3          895       3    1  27.0      0      0   8.6625         2\n",
              "4          896       3    0  22.0      1      1  12.2875         2"
            ]
          },
          "metadata": {
            "tags": []
          },
          "execution_count": 45
        }
      ]
    },
    {
      "cell_type": "code",
      "metadata": {
        "id": "fX73ogJM8WlF",
        "colab_type": "code",
        "colab": {}
      },
      "source": [
        "test_ids = test_df['PassengerId']\n",
        "pred=rf.predict(test_df.drop('PassengerId', axis=1))\n",
        "res=pd.DataFrame({'PassengerId':test_ids, 'Survived':pred})\n",
        "res.to_csv('Submit_SK.csv', index=False)"
      ],
      "execution_count": 46,
      "outputs": []
    },
    {
      "cell_type": "code",
      "metadata": {
        "id": "JtNcsuXn8WlI",
        "colab_type": "code",
        "colab": {}
      },
      "source": [
        ""
      ],
      "execution_count": null,
      "outputs": []
    }
  ]
}